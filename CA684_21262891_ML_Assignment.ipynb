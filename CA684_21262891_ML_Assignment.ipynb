{
 "cells": [
  {
   "cell_type": "code",
   "execution_count": 1,
   "metadata": {},
   "outputs": [
    {
     "name": "stderr",
     "output_type": "stream",
     "text": [
      "C:\\Users\\bhave\\anaconda3\\lib\\site-packages\\thefuzz\\fuzz.py:11: UserWarning: Using slow pure-python SequenceMatcher. Install python-Levenshtein to remove this warning\n",
      "  warnings.warn('Using slow pure-python SequenceMatcher. Install python-Levenshtein to remove this warning')\n",
      "C:\\Users\\bhave\\anaconda3\\lib\\site-packages\\fuzzywuzzy\\fuzz.py:11: UserWarning: Using slow pure-python SequenceMatcher. Install python-Levenshtein to remove this warning\n",
      "  warnings.warn('Using slow pure-python SequenceMatcher. Install python-Levenshtein to remove this warning')\n"
     ]
    }
   ],
   "source": [
    "# libraries\n",
    "import os\n",
    "from datetime import datetime\n",
    "import pandas as pd\n",
    "import numpy as np\n",
    "import matplotlib.pyplot as plt\n",
    "import matplotlib.image as mpimg\n",
    "import urllib\n",
    "from thefuzz import fuzz, process\n",
    "import googletrans\n",
    "from googletrans import Translator\n",
    "from fuzzywuzzy import fuzz\n",
    "from fuzzywuzzy import process\n",
    "\n",
    "# Matplotlib configuration\n",
    "font = { 'family': 'DejaVu Sans', 'weight': 'bold', 'size': 16 }\n",
    "plt.rc('font', **font)\n",
    "\n",
    "# Pandas config\n",
    "pd.options.mode.chained_assignment = None  # default='warn'"
   ]
  },
  {
   "cell_type": "code",
   "execution_count": 2,
   "metadata": {},
   "outputs": [
    {
     "data": {
      "text/html": [
       "<div>\n",
       "<style scoped>\n",
       "    .dataframe tbody tr th:only-of-type {\n",
       "        vertical-align: middle;\n",
       "    }\n",
       "\n",
       "    .dataframe tbody tr th {\n",
       "        vertical-align: top;\n",
       "    }\n",
       "\n",
       "    .dataframe thead th {\n",
       "        text-align: right;\n",
       "    }\n",
       "</style>\n",
       "<table border=\"1\" class=\"dataframe\">\n",
       "  <thead>\n",
       "    <tr style=\"text-align: right;\">\n",
       "      <th></th>\n",
       "      <th>offer_id</th>\n",
       "      <th>shop</th>\n",
       "      <th>lang</th>\n",
       "      <th>brand</th>\n",
       "      <th>color</th>\n",
       "      <th>title</th>\n",
       "      <th>description</th>\n",
       "      <th>price</th>\n",
       "      <th>url</th>\n",
       "      <th>image_urls</th>\n",
       "    </tr>\n",
       "  </thead>\n",
       "  <tbody>\n",
       "    <tr>\n",
       "      <th>0</th>\n",
       "      <td>d8e0dba8-98e8-48db-9850-dd30cff374e0</td>\n",
       "      <td>aboutyou</td>\n",
       "      <td>de</td>\n",
       "      <td>PIECES</td>\n",
       "      <td>blue | light blue</td>\n",
       "      <td>Kleid</td>\n",
       "      <td>{\"material\": [\"cotton\"], \"sleeve length\": [\"sl...</td>\n",
       "      <td>24.99</td>\n",
       "      <td>https://www.aboutyou.de/p/pieces/kleid-6732409</td>\n",
       "      <td>[https://cdn.aboutstatic.com/file/images/06728...</td>\n",
       "    </tr>\n",
       "    <tr>\n",
       "      <th>1</th>\n",
       "      <td>c0a743f8-68cf-44dc-80cf-b5edbe70ecb7</td>\n",
       "      <td>aboutyou</td>\n",
       "      <td>de</td>\n",
       "      <td>LASCANA</td>\n",
       "      <td>black | mixed colors</td>\n",
       "      <td>Bikinihose</td>\n",
       "      <td>{\"fitted waist\": [\"super low waist\"], \"brand\":...</td>\n",
       "      <td>34.90</td>\n",
       "      <td>https://www.aboutyou.at/p/lascana/bikinihose-5...</td>\n",
       "      <td>[https://cdn.aboutstatic.com/file/8ba09c163f54...</td>\n",
       "    </tr>\n",
       "    <tr>\n",
       "      <th>2</th>\n",
       "      <td>f0328791-9839-4bc1-ac62-78b7515e9601</td>\n",
       "      <td>aboutyou</td>\n",
       "      <td>de</td>\n",
       "      <td>MAMALICIOUS</td>\n",
       "      <td>beige</td>\n",
       "      <td>Chino-Hose</td>\n",
       "      <td>{\"brand\": [\"mamalicious\"], \"size run\": [\"women...</td>\n",
       "      <td>21.99</td>\n",
       "      <td>https://www.aboutyou.de/p/mamalicious/chino-ho...</td>\n",
       "      <td>[https://cdn.aboutstatic.com/file/images/90ddf...</td>\n",
       "    </tr>\n",
       "  </tbody>\n",
       "</table>\n",
       "</div>"
      ],
      "text/plain": [
       "                               offer_id      shop lang        brand  \\\n",
       "0  d8e0dba8-98e8-48db-9850-dd30cff374e0  aboutyou   de       PIECES   \n",
       "1  c0a743f8-68cf-44dc-80cf-b5edbe70ecb7  aboutyou   de      LASCANA   \n",
       "2  f0328791-9839-4bc1-ac62-78b7515e9601  aboutyou   de  MAMALICIOUS   \n",
       "\n",
       "                  color       title  \\\n",
       "0     blue | light blue       Kleid   \n",
       "1  black | mixed colors  Bikinihose   \n",
       "2                 beige  Chino-Hose   \n",
       "\n",
       "                                         description  price  \\\n",
       "0  {\"material\": [\"cotton\"], \"sleeve length\": [\"sl...  24.99   \n",
       "1  {\"fitted waist\": [\"super low waist\"], \"brand\":...  34.90   \n",
       "2  {\"brand\": [\"mamalicious\"], \"size run\": [\"women...  21.99   \n",
       "\n",
       "                                                 url  \\\n",
       "0     https://www.aboutyou.de/p/pieces/kleid-6732409   \n",
       "1  https://www.aboutyou.at/p/lascana/bikinihose-5...   \n",
       "2  https://www.aboutyou.de/p/mamalicious/chino-ho...   \n",
       "\n",
       "                                          image_urls  \n",
       "0  [https://cdn.aboutstatic.com/file/images/06728...  \n",
       "1  [https://cdn.aboutstatic.com/file/8ba09c163f54...  \n",
       "2  [https://cdn.aboutstatic.com/file/images/90ddf...  "
      ]
     },
     "execution_count": 2,
     "metadata": {},
     "output_type": "execute_result"
    }
   ],
   "source": [
    "#Taking in the input of the default training dataframe\n",
    "off_df = pd.read_parquet('offers_trainingTranslated.parquet')\n",
    "\n",
    "#Pre-processing on the training DF\n",
    "off_df=off_df.dropna()\n",
    "#Removing duplicates from the color column\n",
    "off_df['color']=off_df['color'].apply(lambda x: ' | '.join(sorted(set(x.split(' | ')))))\n",
    "off_df.head(3)"
   ]
  },
  {
   "cell_type": "code",
   "execution_count": 3,
   "metadata": {},
   "outputs": [
    {
     "data": {
      "text/html": [
       "<div>\n",
       "<style scoped>\n",
       "    .dataframe tbody tr th:only-of-type {\n",
       "        vertical-align: middle;\n",
       "    }\n",
       "\n",
       "    .dataframe tbody tr th {\n",
       "        vertical-align: top;\n",
       "    }\n",
       "\n",
       "    .dataframe thead th {\n",
       "        text-align: right;\n",
       "    }\n",
       "</style>\n",
       "<table border=\"1\" class=\"dataframe\">\n",
       "  <thead>\n",
       "    <tr style=\"text-align: right;\">\n",
       "      <th></th>\n",
       "      <th>zalando</th>\n",
       "      <th>aboutyou</th>\n",
       "      <th>brand</th>\n",
       "    </tr>\n",
       "  </thead>\n",
       "  <tbody>\n",
       "    <tr>\n",
       "      <th>0</th>\n",
       "      <td>b33f55d6-0149-4063-8b63-3eeae63562a2</td>\n",
       "      <td>ad5ceb87-0254-4171-b650-1d4d09f48efc</td>\n",
       "      <td>10</td>\n",
       "    </tr>\n",
       "    <tr>\n",
       "      <th>1</th>\n",
       "      <td>f04bef4a-f771-4749-914c-1b22718523b8</td>\n",
       "      <td>b68dd42a-9bda-46e2-aa4e-3d7c50881bb2</td>\n",
       "      <td>10</td>\n",
       "    </tr>\n",
       "    <tr>\n",
       "      <th>2</th>\n",
       "      <td>396c292a-cda8-4477-ac67-86701fc8ab95</td>\n",
       "      <td>7d19213c-b3ea-406a-ac8e-8299823c7bb4</td>\n",
       "      <td>10</td>\n",
       "    </tr>\n",
       "  </tbody>\n",
       "</table>\n",
       "</div>"
      ],
      "text/plain": [
       "                                zalando                              aboutyou  \\\n",
       "0  b33f55d6-0149-4063-8b63-3eeae63562a2  ad5ceb87-0254-4171-b650-1d4d09f48efc   \n",
       "1  f04bef4a-f771-4749-914c-1b22718523b8  b68dd42a-9bda-46e2-aa4e-3d7c50881bb2   \n",
       "2  396c292a-cda8-4477-ac67-86701fc8ab95  7d19213c-b3ea-406a-ac8e-8299823c7bb4   \n",
       "\n",
       "   brand  \n",
       "0     10  \n",
       "1     10  \n",
       "2     10  "
      ]
     },
     "execution_count": 3,
     "metadata": {},
     "output_type": "execute_result"
    }
   ],
   "source": [
    "#There is an additional dataframe given, which contains\n",
    "#matches identified by humans. we eill need that for creating our training dataframe.\n",
    "match_df = pd.read_parquet('matches_training.parquet')\n",
    "match_df.nunique()\n",
    "match_df.head(3)"
   ]
  },
  {
   "cell_type": "markdown",
   "metadata": {},
   "source": [
    "# Training DataFrame\n",
    "## Pre-Processing\n",
    "\n",
    "We will start by seperating the training dataframe into 'zalando' and 'aboutyou' products. this will help us in further pre-processing and understanding how many products are available for both brands "
   ]
  },
  {
   "cell_type": "code",
   "execution_count": 4,
   "metadata": {},
   "outputs": [
    {
     "data": {
      "text/html": [
       "<div>\n",
       "<style scoped>\n",
       "    .dataframe tbody tr th:only-of-type {\n",
       "        vertical-align: middle;\n",
       "    }\n",
       "\n",
       "    .dataframe tbody tr th {\n",
       "        vertical-align: top;\n",
       "    }\n",
       "\n",
       "    .dataframe thead th {\n",
       "        text-align: right;\n",
       "    }\n",
       "</style>\n",
       "<table border=\"1\" class=\"dataframe\">\n",
       "  <thead>\n",
       "    <tr style=\"text-align: right;\">\n",
       "      <th></th>\n",
       "      <th>offer_id</th>\n",
       "      <th>shop</th>\n",
       "      <th>brand</th>\n",
       "      <th>color</th>\n",
       "      <th>title</th>\n",
       "      <th>description</th>\n",
       "      <th>url</th>\n",
       "      <th>image_urls</th>\n",
       "    </tr>\n",
       "  </thead>\n",
       "  <tbody>\n",
       "    <tr>\n",
       "      <th>0</th>\n",
       "      <td>02df5ca3-8adc-48fa-bf42-91b41c3ea5a9</td>\n",
       "      <td>zalando</td>\n",
       "      <td>guess</td>\n",
       "      <td>white</td>\n",
       "      <td>JUNIOR REVERSIBLE HOODED LONG Wintermantel</td>\n",
       "      <td>skirt_details slit pockets | decorative stones...</td>\n",
       "      <td>https://www.zalando.de/lookup/article/GU123L05...</td>\n",
       "      <td>[https://img01.ztat.net/article/1ec35ff491c54e...</td>\n",
       "    </tr>\n",
       "    <tr>\n",
       "      <th>1</th>\n",
       "      <td>08c47691-4160-41df-81c5-ea108f2ae539</td>\n",
       "      <td>zalando</td>\n",
       "      <td>ellesse</td>\n",
       "      <td>white</td>\n",
       "      <td>HOLLINA SHIRT &amp; LEGGING Pyjama Nachtwäsche Set</td>\n",
       "      <td>name_suffix white $ pattern print $ material.u...</td>\n",
       "      <td>https://www.zalando.de/lookup/article/EL981P00...</td>\n",
       "      <td>[https://img01.ztat.net/article/511a8191c10549...</td>\n",
       "    </tr>\n",
       "    <tr>\n",
       "      <th>2</th>\n",
       "      <td>96fc5065-3a31-42f0-bfbd-34ee94324807</td>\n",
       "      <td>zalando</td>\n",
       "      <td>selected</td>\n",
       "      <td>blue</td>\n",
       "      <td>SLHSLIMMARK WASHED Businesshemd</td>\n",
       "      <td>main_supplier_code k70240 $ name_suffix dark s...</td>\n",
       "      <td>https://www.zalando.de/lookup/article/SE622D0Y...</td>\n",
       "      <td>[https://img01.ztat.net/article/4ca1292819fa35...</td>\n",
       "    </tr>\n",
       "  </tbody>\n",
       "</table>\n",
       "</div>"
      ],
      "text/plain": [
       "                               offer_id     shop     brand  color  \\\n",
       "0  02df5ca3-8adc-48fa-bf42-91b41c3ea5a9  zalando     guess  white   \n",
       "1  08c47691-4160-41df-81c5-ea108f2ae539  zalando   ellesse  white   \n",
       "2  96fc5065-3a31-42f0-bfbd-34ee94324807  zalando  selected   blue   \n",
       "\n",
       "                                            title  \\\n",
       "0      JUNIOR REVERSIBLE HOODED LONG Wintermantel   \n",
       "1  HOLLINA SHIRT & LEGGING Pyjama Nachtwäsche Set   \n",
       "2                 SLHSLIMMARK WASHED Businesshemd   \n",
       "\n",
       "                                         description  \\\n",
       "0  skirt_details slit pockets | decorative stones...   \n",
       "1  name_suffix white $ pattern print $ material.u...   \n",
       "2  main_supplier_code k70240 $ name_suffix dark s...   \n",
       "\n",
       "                                                 url  \\\n",
       "0  https://www.zalando.de/lookup/article/GU123L05...   \n",
       "1  https://www.zalando.de/lookup/article/EL981P00...   \n",
       "2  https://www.zalando.de/lookup/article/SE622D0Y...   \n",
       "\n",
       "                                          image_urls  \n",
       "0  [https://img01.ztat.net/article/1ec35ff491c54e...  \n",
       "1  [https://img01.ztat.net/article/511a8191c10549...  \n",
       "2  [https://img01.ztat.net/article/4ca1292819fa35...  "
      ]
     },
     "execution_count": 4,
     "metadata": {},
     "output_type": "execute_result"
    }
   ],
   "source": [
    "#Pre-processing for 'aboutyou' dataframe\n",
    "ay_df=pd.DataFrame()\n",
    "ay_df=off_df.where(off_df['shop']=='aboutyou')\n",
    "ay_df=ay_df.dropna()\n",
    "ay_df= ay_df.drop(['lang', 'price'], axis=1)\n",
    "ay_df['brand']=ay_df['brand'].str.lower()\n",
    "ay_df=ay_df.reset_index().drop('index', axis=1)\n",
    "\n",
    "#Pre-processing for 'zalando' dataframe\n",
    "z_df=pd.DataFrame()\n",
    "z_df=off_df.where(off_df['shop']=='zalando')\n",
    "z_df=z_df.dropna()\n",
    "z_df=z_df.drop(['lang', 'price'], axis=1)\n",
    "z_df['brand']=z_df['brand'].str.lower()\n",
    "z_df=z_df.reset_index().drop('index', axis=1)\n",
    "z_df.head(3)"
   ]
  },
  {
   "cell_type": "markdown",
   "metadata": {},
   "source": [
    "## Merging with match dataframe.\n",
    "\n",
    "We merge the z_df and ay_df with the match to get the details of title and description of the products in the match df"
   ]
  },
  {
   "cell_type": "code",
   "execution_count": 5,
   "metadata": {},
   "outputs": [],
   "source": [
    "#New z_df\n",
    "zal_match=pd.DataFrame(columns=['zalando', 'brand'])\n",
    "zal_match['zalando']=match_df['zalando']\n",
    "zal_match['brand']=match_df['brand']\n",
    "zal_match=zal_match.rename(columns={'zalando':'offer_id'})\n",
    "z_df=z_df.merge(zal_match, on='offer_id', how='right')\n",
    "\n",
    "#New ay_df\n",
    "ay_match=pd.DataFrame(columns=['aboutyou', 'brand'])\n",
    "ay_match['aboutyou']=match_df['aboutyou']\n",
    "ay_match['brand']=match_df['brand']\n",
    "ay_match=ay_match.rename(columns={'aboutyou':'offer_id'})\n",
    "ay_df=ay_df.merge(ay_match, on='offer_id', how='right')"
   ]
  },
  {
   "cell_type": "code",
   "execution_count": 6,
   "metadata": {},
   "outputs": [
    {
     "data": {
      "text/html": [
       "<div>\n",
       "<style scoped>\n",
       "    .dataframe tbody tr th:only-of-type {\n",
       "        vertical-align: middle;\n",
       "    }\n",
       "\n",
       "    .dataframe tbody tr th {\n",
       "        vertical-align: top;\n",
       "    }\n",
       "\n",
       "    .dataframe thead th {\n",
       "        text-align: right;\n",
       "    }\n",
       "</style>\n",
       "<table border=\"1\" class=\"dataframe\">\n",
       "  <thead>\n",
       "    <tr style=\"text-align: right;\">\n",
       "      <th></th>\n",
       "      <th>zal_offer_id</th>\n",
       "      <th>brand</th>\n",
       "      <th>color</th>\n",
       "      <th>title</th>\n",
       "      <th>description</th>\n",
       "      <th>brand_map</th>\n",
       "    </tr>\n",
       "  </thead>\n",
       "  <tbody>\n",
       "    <tr>\n",
       "      <th>0</th>\n",
       "      <td>b33f55d6-0149-4063-8b63-3eeae63562a2</td>\n",
       "      <td>swarovski</td>\n",
       "      <td>silver colored</td>\n",
       "      <td>CREATIVITY  Halskette</td>\n",
       "      <td>main_supplier_code k85009 $ name_suffix silver...</td>\n",
       "      <td>10</td>\n",
       "    </tr>\n",
       "    <tr>\n",
       "      <th>1</th>\n",
       "      <td>f04bef4a-f771-4749-914c-1b22718523b8</td>\n",
       "      <td>swarovski</td>\n",
       "      <td>rose gold colored</td>\n",
       "      <td>LIFELONG BANGLE  Armband</td>\n",
       "      <td>main_supplier_code k85009 $ name_suffix rosego...</td>\n",
       "      <td>10</td>\n",
       "    </tr>\n",
       "    <tr>\n",
       "      <th>2</th>\n",
       "      <td>396c292a-cda8-4477-ac67-86701fc8ab95</td>\n",
       "      <td>swarovski</td>\n",
       "      <td>silver colored</td>\n",
       "      <td>ETERNAL FLOWER BANGLE FLY Armband</td>\n",
       "      <td>main_supplier_code k85009 $ name_suffix fancy ...</td>\n",
       "      <td>10</td>\n",
       "    </tr>\n",
       "  </tbody>\n",
       "</table>\n",
       "</div>"
      ],
      "text/plain": [
       "                           zal_offer_id      brand              color  \\\n",
       "0  b33f55d6-0149-4063-8b63-3eeae63562a2  swarovski     silver colored   \n",
       "1  f04bef4a-f771-4749-914c-1b22718523b8  swarovski  rose gold colored   \n",
       "2  396c292a-cda8-4477-ac67-86701fc8ab95  swarovski     silver colored   \n",
       "\n",
       "                               title  \\\n",
       "0              CREATIVITY  Halskette   \n",
       "1           LIFELONG BANGLE  Armband   \n",
       "2  ETERNAL FLOWER BANGLE FLY Armband   \n",
       "\n",
       "                                         description  brand_map  \n",
       "0  main_supplier_code k85009 $ name_suffix silver...         10  \n",
       "1  main_supplier_code k85009 $ name_suffix rosego...         10  \n",
       "2  main_supplier_code k85009 $ name_suffix fancy ...         10  "
      ]
     },
     "execution_count": 6,
     "metadata": {},
     "output_type": "execute_result"
    }
   ],
   "source": [
    "z_df=z_df.rename(columns={'offer_id':'zal_offer_id','brand_x':'brand', 'brand_y':'brand_map'})\n",
    "ay_df=ay_df.rename(columns={'offer_id':'ay_offer_id','brand_x':'brand', 'brand_y':'brand_map'})\n",
    "z_df=z_df.drop(columns=['shop', 'url', 'image_urls'])\n",
    "z_df.head(3)"
   ]
  },
  {
   "cell_type": "markdown",
   "metadata": {},
   "source": [
    "## Similarity scores.\n",
    "\n",
    "We will now generate the similarity scores for the products in the new dataframe. We use the fuzzywuzzy library which uses the levenshtein distance to calculate the similarity. We also use this library because it is specifically designed for the string matching purposes. We calculate scores between the 'title' and 'description' of the products"
   ]
  },
  {
   "cell_type": "code",
   "execution_count": 8,
   "metadata": {},
   "outputs": [],
   "source": [
    "fuzz_score=[]\n",
    "fuzz_score_1=[]\n",
    "row=len(z_df)\n",
    "\n",
    "z_df['title']=z_df['title'].values.astype('U')\n",
    "ay_df['title']=ay_df['title'].values.astype('U')\n",
    "\n",
    "z_df['description']=z_df['description'].values.astype('U')\n",
    "ay_df['description']=ay_df['description'].values.astype('U')\n",
    "    \n",
    "#fuzz similarity\n",
    "for i in range(row):\n",
    "    text1 = z_df['description'][i]\n",
    "    text2 = ay_df['description'][i]\n",
    "    fuzz_score.append(fuzz.partial_ratio(text1, text2))  \n",
    "    \n",
    "#fuzz similarity title\n",
    "for i in range(row):\n",
    "    text1 = z_df['title'][i]\n",
    "    text2 = ay_df['title'][i]\n",
    "    fuzz_score_1.append(fuzz.partial_ratio(text1, text2))    "
   ]
  },
  {
   "cell_type": "code",
   "execution_count": 11,
   "metadata": {},
   "outputs": [],
   "source": [
    "fuzz_score=np.array(fuzz_score)\n",
    "fuzz_score=fuzz_score.reshape(15170)\n",
    "\n",
    "fuzz_score_1=np.array(fuzz_score_1)\n",
    "fuzz_score_1=fuzz_score_1.reshape(15170)\n",
    "\n",
    "metrics_df=pd.DataFrame(data={'fuzz_score':fuzz_score, 'fuzz_score_title':fuzz_score_1})\n",
    "metrics_df.to_parquet('metrics.parquet')"
   ]
  },
  {
   "cell_type": "markdown",
   "metadata": {},
   "source": [
    "## NOTE\n",
    "There is no need to run the above two cells, i have created a seperate parquet file called 'metrics.parquet' and i will attach it in the zip file. So you can directly run the cell below."
   ]
  },
  {
   "cell_type": "code",
   "execution_count": 7,
   "metadata": {},
   "outputs": [
    {
     "data": {
      "text/html": [
       "<div>\n",
       "<style scoped>\n",
       "    .dataframe tbody tr th:only-of-type {\n",
       "        vertical-align: middle;\n",
       "    }\n",
       "\n",
       "    .dataframe tbody tr th {\n",
       "        vertical-align: top;\n",
       "    }\n",
       "\n",
       "    .dataframe thead th {\n",
       "        text-align: right;\n",
       "    }\n",
       "</style>\n",
       "<table border=\"1\" class=\"dataframe\">\n",
       "  <thead>\n",
       "    <tr style=\"text-align: right;\">\n",
       "      <th></th>\n",
       "      <th>zalando</th>\n",
       "      <th>aboutyou</th>\n",
       "      <th>brand</th>\n",
       "      <th>sim_score</th>\n",
       "      <th>dis_score</th>\n",
       "      <th>fuzz_score</th>\n",
       "      <th>fuzz_score_title</th>\n",
       "      <th>status</th>\n",
       "    </tr>\n",
       "  </thead>\n",
       "  <tbody>\n",
       "    <tr>\n",
       "      <th>0</th>\n",
       "      <td>b33f55d6-0149-4063-8b63-3eeae63562a2</td>\n",
       "      <td>ad5ceb87-0254-4171-b650-1d4d09f48efc</td>\n",
       "      <td>10</td>\n",
       "      <td>0.069292</td>\n",
       "      <td>1.364337</td>\n",
       "      <td>12</td>\n",
       "      <td>80</td>\n",
       "      <td>1</td>\n",
       "    </tr>\n",
       "    <tr>\n",
       "      <th>1</th>\n",
       "      <td>f04bef4a-f771-4749-914c-1b22718523b8</td>\n",
       "      <td>b68dd42a-9bda-46e2-aa4e-3d7c50881bb2</td>\n",
       "      <td>10</td>\n",
       "      <td>0.081901</td>\n",
       "      <td>1.355064</td>\n",
       "      <td>3</td>\n",
       "      <td>43</td>\n",
       "      <td>1</td>\n",
       "    </tr>\n",
       "    <tr>\n",
       "      <th>2</th>\n",
       "      <td>396c292a-cda8-4477-ac67-86701fc8ab95</td>\n",
       "      <td>7d19213c-b3ea-406a-ac8e-8299823c7bb4</td>\n",
       "      <td>10</td>\n",
       "      <td>0.043928</td>\n",
       "      <td>1.382803</td>\n",
       "      <td>4</td>\n",
       "      <td>26</td>\n",
       "      <td>1</td>\n",
       "    </tr>\n",
       "  </tbody>\n",
       "</table>\n",
       "</div>"
      ],
      "text/plain": [
       "                                zalando                              aboutyou  \\\n",
       "0  b33f55d6-0149-4063-8b63-3eeae63562a2  ad5ceb87-0254-4171-b650-1d4d09f48efc   \n",
       "1  f04bef4a-f771-4749-914c-1b22718523b8  b68dd42a-9bda-46e2-aa4e-3d7c50881bb2   \n",
       "2  396c292a-cda8-4477-ac67-86701fc8ab95  7d19213c-b3ea-406a-ac8e-8299823c7bb4   \n",
       "\n",
       "   brand  sim_score  dis_score  fuzz_score  fuzz_score_title  status  \n",
       "0     10   0.069292   1.364337          12                80       1  \n",
       "1     10   0.081901   1.355064           3                43       1  \n",
       "2     10   0.043928   1.382803           4                26       1  "
      ]
     },
     "execution_count": 7,
     "metadata": {},
     "output_type": "execute_result"
    }
   ],
   "source": [
    "metrics_df=pd.read_parquet('metrics.parquet')\n",
    "\n",
    "match_df=match_df.join(metrics_df,how='left')\n",
    "match_df['status']=1\n",
    "match_df.head(3)"
   ]
  },
  {
   "cell_type": "code",
   "execution_count": 8,
   "metadata": {},
   "outputs": [
    {
     "name": "stdout",
     "output_type": "stream",
     "text": [
      "67\n",
      "0\n",
      "100\n",
      "0\n"
     ]
    }
   ],
   "source": [
    "print(match_df['fuzz_score'].max())\n",
    "print(match_df['fuzz_score'].min())\n",
    "print(match_df['fuzz_score_title'].max())\n",
    "print(match_df['fuzz_score_title'].min())"
   ]
  },
  {
   "cell_type": "markdown",
   "metadata": {},
   "source": [
    "## Non Match dataframe\n",
    "\n",
    "As we need to able to train the model for non matches also, i have created a dataframe for no-matched products. I will concatenate it with the matched dataframe, to create a final Training dataframe. And later create a seperate parquet file for ease of running of code."
   ]
  },
  {
   "cell_type": "code",
   "execution_count": null,
   "metadata": {},
   "outputs": [],
   "source": [
    "# This is the code for creating non-match, parquet file is attached in the zip file, NO NEED TO RUN THIS BLOCK\n",
    "#Code for dropping the products in the match dataframe and then creating non_match dataframe\n",
    "for i in match_df['zalando']:\n",
    "    z_df=z_df.drop(z_df[z_df.offer_id == i].index, inplace=False)\n",
    "\n",
    "for j in match_df['aboutyou']:\n",
    "    ay_df=ay_df.drop(ay_df[ay_df.offer_id == j].index, inplace=False)\n",
    "    \n",
    "#Exported the data to different parquet files to avoid computing time later.\n",
    "z_df.to_parquet('z_nonmatch_df.parquet')\n",
    "ay_df.to_parquet('ay_nonmatch_df.parquet')"
   ]
  },
  {
   "cell_type": "code",
   "execution_count": 9,
   "metadata": {},
   "outputs": [
    {
     "data": {
      "text/html": [
       "<div>\n",
       "<style scoped>\n",
       "    .dataframe tbody tr th:only-of-type {\n",
       "        vertical-align: middle;\n",
       "    }\n",
       "\n",
       "    .dataframe tbody tr th {\n",
       "        vertical-align: top;\n",
       "    }\n",
       "\n",
       "    .dataframe thead th {\n",
       "        text-align: right;\n",
       "    }\n",
       "</style>\n",
       "<table border=\"1\" class=\"dataframe\">\n",
       "  <thead>\n",
       "    <tr style=\"text-align: right;\">\n",
       "      <th></th>\n",
       "      <th>sim_score</th>\n",
       "      <th>dis_score</th>\n",
       "      <th>fuzz_score</th>\n",
       "      <th>fuzz_score_title</th>\n",
       "      <th>zalando</th>\n",
       "      <th>aboutyou</th>\n",
       "      <th>status</th>\n",
       "    </tr>\n",
       "  </thead>\n",
       "  <tbody>\n",
       "    <tr>\n",
       "      <th>0</th>\n",
       "      <td>0.071593</td>\n",
       "      <td>1.362650</td>\n",
       "      <td>2</td>\n",
       "      <td>29</td>\n",
       "      <td>02df5ca3-8adc-48fa-bf42-91b41c3ea5a9</td>\n",
       "      <td>d8e0dba8-98e8-48db-9850-dd30cff374e0</td>\n",
       "      <td>0</td>\n",
       "    </tr>\n",
       "    <tr>\n",
       "      <th>1</th>\n",
       "      <td>0.033150</td>\n",
       "      <td>1.390575</td>\n",
       "      <td>10</td>\n",
       "      <td>30</td>\n",
       "      <td>08c47691-4160-41df-81c5-ea108f2ae539</td>\n",
       "      <td>c0a743f8-68cf-44dc-80cf-b5edbe70ecb7</td>\n",
       "      <td>0</td>\n",
       "    </tr>\n",
       "    <tr>\n",
       "      <th>2</th>\n",
       "      <td>0.014478</td>\n",
       "      <td>1.403939</td>\n",
       "      <td>2</td>\n",
       "      <td>40</td>\n",
       "      <td>96fc5065-3a31-42f0-bfbd-34ee94324807</td>\n",
       "      <td>f0328791-9839-4bc1-ac62-78b7515e9601</td>\n",
       "      <td>0</td>\n",
       "    </tr>\n",
       "  </tbody>\n",
       "</table>\n",
       "</div>"
      ],
      "text/plain": [
       "   sim_score  dis_score  fuzz_score  fuzz_score_title  \\\n",
       "0   0.071593   1.362650           2                29   \n",
       "1   0.033150   1.390575          10                30   \n",
       "2   0.014478   1.403939           2                40   \n",
       "\n",
       "                                zalando                              aboutyou  \\\n",
       "0  02df5ca3-8adc-48fa-bf42-91b41c3ea5a9  d8e0dba8-98e8-48db-9850-dd30cff374e0   \n",
       "1  08c47691-4160-41df-81c5-ea108f2ae539  c0a743f8-68cf-44dc-80cf-b5edbe70ecb7   \n",
       "2  96fc5065-3a31-42f0-bfbd-34ee94324807  f0328791-9839-4bc1-ac62-78b7515e9601   \n",
       "\n",
       "   status  \n",
       "0       0  \n",
       "1       0  \n",
       "2       0  "
      ]
     },
     "execution_count": 9,
     "metadata": {},
     "output_type": "execute_result"
    }
   ],
   "source": [
    "non_match=pd.read_parquet('nonmatch_metrics_df.parquet')\n",
    "non_match=non_match.rename(columns={'z_offer_id':'zalando', 'ay_offer_id':'aboutyou','fuzz_title_score':'fuzz_score_title'})\n",
    "non_match['status']=0\n",
    "non_match.head(3)"
   ]
  },
  {
   "cell_type": "markdown",
   "metadata": {},
   "source": [
    "## Creating the training dataframe\n",
    "\n",
    "We have generated fuzz partial ratio scores for the products in the match dataframe. Then we created a a dataframe called the 'non_match' DF, which contains similarity score for random products from the orignal DF(excluding the ones in the match DF) to create similarity scores for the products which are not mathes\n",
    "\n",
    "We now concatenate these dataframes to create a final DF that will be used as our training DF."
   ]
  },
  {
   "cell_type": "code",
   "execution_count": 10,
   "metadata": {},
   "outputs": [],
   "source": [
    "#This code was used to create the training dataframe.\n",
    "training_df=pd.concat([match_df,non_match], axis=0)\n",
    "training_df=training_df.reset_index().drop(columns=['index','brand','sim_score','dis_score'],axis=1)\n",
    "training_df['fuzz_score']=training_df['fuzz_score']/100\n",
    "training_df['fuzz_score_title']=training_df['fuzz_score_title']/100\n",
    "#As a lot of computing power is spent everytime, we have exported it to a parquet file so that it can be easily read.\n",
    "training_df.to_parquet('training_df.parquet')"
   ]
  },
  {
   "cell_type": "code",
   "execution_count": 4,
   "metadata": {},
   "outputs": [
    {
     "data": {
      "text/html": [
       "<div>\n",
       "<style scoped>\n",
       "    .dataframe tbody tr th:only-of-type {\n",
       "        vertical-align: middle;\n",
       "    }\n",
       "\n",
       "    .dataframe tbody tr th {\n",
       "        vertical-align: top;\n",
       "    }\n",
       "\n",
       "    .dataframe thead th {\n",
       "        text-align: right;\n",
       "    }\n",
       "</style>\n",
       "<table border=\"1\" class=\"dataframe\">\n",
       "  <thead>\n",
       "    <tr style=\"text-align: right;\">\n",
       "      <th></th>\n",
       "      <th>zalando</th>\n",
       "      <th>aboutyou</th>\n",
       "      <th>fuzz_score</th>\n",
       "      <th>fuzz_score_title</th>\n",
       "      <th>status</th>\n",
       "    </tr>\n",
       "  </thead>\n",
       "  <tbody>\n",
       "    <tr>\n",
       "      <th>0</th>\n",
       "      <td>b33f55d6-0149-4063-8b63-3eeae63562a2</td>\n",
       "      <td>ad5ceb87-0254-4171-b650-1d4d09f48efc</td>\n",
       "      <td>0.12</td>\n",
       "      <td>0.80</td>\n",
       "      <td>1</td>\n",
       "    </tr>\n",
       "    <tr>\n",
       "      <th>1</th>\n",
       "      <td>f04bef4a-f771-4749-914c-1b22718523b8</td>\n",
       "      <td>b68dd42a-9bda-46e2-aa4e-3d7c50881bb2</td>\n",
       "      <td>0.03</td>\n",
       "      <td>0.43</td>\n",
       "      <td>1</td>\n",
       "    </tr>\n",
       "    <tr>\n",
       "      <th>2</th>\n",
       "      <td>396c292a-cda8-4477-ac67-86701fc8ab95</td>\n",
       "      <td>7d19213c-b3ea-406a-ac8e-8299823c7bb4</td>\n",
       "      <td>0.04</td>\n",
       "      <td>0.26</td>\n",
       "      <td>1</td>\n",
       "    </tr>\n",
       "    <tr>\n",
       "      <th>3</th>\n",
       "      <td>e72b5d05-fd06-46e9-a183-5e2e26ed18bb</td>\n",
       "      <td>22344dcd-2eca-4576-a89d-916cc47f6cb4</td>\n",
       "      <td>0.25</td>\n",
       "      <td>1.00</td>\n",
       "      <td>1</td>\n",
       "    </tr>\n",
       "    <tr>\n",
       "      <th>4</th>\n",
       "      <td>87b7841b-f44e-4652-ace4-2ac975510226</td>\n",
       "      <td>c2f1a132-c013-4e78-8582-6d3001e05cbf</td>\n",
       "      <td>0.02</td>\n",
       "      <td>1.00</td>\n",
       "      <td>1</td>\n",
       "    </tr>\n",
       "    <tr>\n",
       "      <th>...</th>\n",
       "      <td>...</td>\n",
       "      <td>...</td>\n",
       "      <td>...</td>\n",
       "      <td>...</td>\n",
       "      <td>...</td>\n",
       "    </tr>\n",
       "    <tr>\n",
       "      <th>30165</th>\n",
       "      <td>ea303a00-6466-41ea-803f-3f73e8203ff7</td>\n",
       "      <td>13cc7454-06e7-4ba5-ac92-5a4726f97af6</td>\n",
       "      <td>0.04</td>\n",
       "      <td>0.17</td>\n",
       "      <td>0</td>\n",
       "    </tr>\n",
       "    <tr>\n",
       "      <th>30166</th>\n",
       "      <td>e29cf029-244b-4e61-ad45-defdf9575856</td>\n",
       "      <td>273947f9-c3ac-4027-b61a-64a2e5502cb4</td>\n",
       "      <td>0.03</td>\n",
       "      <td>0.00</td>\n",
       "      <td>0</td>\n",
       "    </tr>\n",
       "    <tr>\n",
       "      <th>30167</th>\n",
       "      <td>5c76beb2-67bd-4a05-89c9-859155a0334a</td>\n",
       "      <td>63a30059-a3e1-4b0e-8e39-cc8cb674ccd0</td>\n",
       "      <td>0.17</td>\n",
       "      <td>0.40</td>\n",
       "      <td>0</td>\n",
       "    </tr>\n",
       "    <tr>\n",
       "      <th>30168</th>\n",
       "      <td>05dac6a8-601d-4b0d-8421-10024d70dc25</td>\n",
       "      <td>95c1008c-6aea-44a2-a82e-856a7ec897fc</td>\n",
       "      <td>0.10</td>\n",
       "      <td>0.22</td>\n",
       "      <td>0</td>\n",
       "    </tr>\n",
       "    <tr>\n",
       "      <th>30169</th>\n",
       "      <td>90466141-762a-4f23-9a1f-a74558043898</td>\n",
       "      <td>049fa788-9154-421f-812a-29eebffc662b</td>\n",
       "      <td>0.15</td>\n",
       "      <td>0.21</td>\n",
       "      <td>0</td>\n",
       "    </tr>\n",
       "  </tbody>\n",
       "</table>\n",
       "<p>30170 rows × 5 columns</p>\n",
       "</div>"
      ],
      "text/plain": [
       "                                    zalando  \\\n",
       "0      b33f55d6-0149-4063-8b63-3eeae63562a2   \n",
       "1      f04bef4a-f771-4749-914c-1b22718523b8   \n",
       "2      396c292a-cda8-4477-ac67-86701fc8ab95   \n",
       "3      e72b5d05-fd06-46e9-a183-5e2e26ed18bb   \n",
       "4      87b7841b-f44e-4652-ace4-2ac975510226   \n",
       "...                                     ...   \n",
       "30165  ea303a00-6466-41ea-803f-3f73e8203ff7   \n",
       "30166  e29cf029-244b-4e61-ad45-defdf9575856   \n",
       "30167  5c76beb2-67bd-4a05-89c9-859155a0334a   \n",
       "30168  05dac6a8-601d-4b0d-8421-10024d70dc25   \n",
       "30169  90466141-762a-4f23-9a1f-a74558043898   \n",
       "\n",
       "                                   aboutyou  fuzz_score  fuzz_score_title  \\\n",
       "0      ad5ceb87-0254-4171-b650-1d4d09f48efc        0.12              0.80   \n",
       "1      b68dd42a-9bda-46e2-aa4e-3d7c50881bb2        0.03              0.43   \n",
       "2      7d19213c-b3ea-406a-ac8e-8299823c7bb4        0.04              0.26   \n",
       "3      22344dcd-2eca-4576-a89d-916cc47f6cb4        0.25              1.00   \n",
       "4      c2f1a132-c013-4e78-8582-6d3001e05cbf        0.02              1.00   \n",
       "...                                     ...         ...               ...   \n",
       "30165  13cc7454-06e7-4ba5-ac92-5a4726f97af6        0.04              0.17   \n",
       "30166  273947f9-c3ac-4027-b61a-64a2e5502cb4        0.03              0.00   \n",
       "30167  63a30059-a3e1-4b0e-8e39-cc8cb674ccd0        0.17              0.40   \n",
       "30168  95c1008c-6aea-44a2-a82e-856a7ec897fc        0.10              0.22   \n",
       "30169  049fa788-9154-421f-812a-29eebffc662b        0.15              0.21   \n",
       "\n",
       "       status  \n",
       "0           1  \n",
       "1           1  \n",
       "2           1  \n",
       "3           1  \n",
       "4           1  \n",
       "...       ...  \n",
       "30165       0  \n",
       "30166       0  \n",
       "30167       0  \n",
       "30168       0  \n",
       "30169       0  \n",
       "\n",
       "[30170 rows x 5 columns]"
      ]
     },
     "execution_count": 4,
     "metadata": {},
     "output_type": "execute_result"
    }
   ],
   "source": [
    "training_df=pd.read_parquet('training_df.parquet')\n",
    "training_df"
   ]
  },
  {
   "cell_type": "markdown",
   "metadata": {},
   "source": [
    "# Test Dataframe\n",
    "## Pre-Processing\n",
    "\n",
    "For the test dataframe, we keep the pre-processing simple. We perform similar data cleaning to the training datadrame.\n",
    "Then, we use a for loop to match every product, but with the same color and brand. We create similarity scores for their description and title.\n",
    "\n",
    "Then we take the match with the maximum score to see and predict whether its a match or not in the K-Means clustering algorithm, and later the Naíve Bayes Algorithm."
   ]
  },
  {
   "cell_type": "code",
   "execution_count": 2,
   "metadata": {},
   "outputs": [],
   "source": [
    "test = pd.read_parquet(\"test_df.parquet\")\n",
    "test=test.dropna()\n",
    "test['brand']=test['brand'].str.lower()\n",
    "test['color']=test['color'].str.lower()\n",
    "test['color']=test['color'].apply(lambda x: ' | '.join(sorted(set(x.split(' | ')))))"
   ]
  },
  {
   "cell_type": "code",
   "execution_count": 3,
   "metadata": {},
   "outputs": [
    {
     "data": {
      "text/plain": [
       "aboutyou    70090\n",
       "zalando     36578\n",
       "Name: shop, dtype: int64"
      ]
     },
     "execution_count": 3,
     "metadata": {},
     "output_type": "execute_result"
    }
   ],
   "source": [
    "test['shop'].value_counts()"
   ]
  },
  {
   "cell_type": "markdown",
   "metadata": {},
   "source": [
    "### Seperate DataFrames\n",
    "I translated the color, title and description columns of the test dataframe. And the seperated them into zalando and aboutyou dataframes. the below cell contains the sample code for the translation. "
   ]
  },
  {
   "cell_type": "code",
   "execution_count": null,
   "metadata": {},
   "outputs": [],
   "source": [
    "#translator=Translator()\n",
    "#li2=[]\n",
    "\n",
    "#for i in range(len(ay_test_df['color'])):\n",
    "#    try:\n",
    "#        test['color'][i]=translator.translate(test['color'][i], src='de', dest='en').text\n",
    "#    except:\n",
    "#        li2.append(i)"
   ]
  },
  {
   "cell_type": "code",
   "execution_count": 5,
   "metadata": {},
   "outputs": [],
   "source": [
    "z_test_df=pd.read_parquet('z_test_1_df.parquet')\n",
    "ay_test_df=pd.read_parquet('ay_test_1_df.parquet')"
   ]
  },
  {
   "cell_type": "code",
   "execution_count": 6,
   "metadata": {},
   "outputs": [],
   "source": [
    "z_test_df=pd.read_parquet('z_test_1_df.parquet')\n",
    "ay_test_df=test.where(test['shop']=='aboutyou').dropna()\n",
    "\n",
    "z_test_df=z_test_df.reset_index()\n",
    "ay_test_df=ay_test_df.reset_index()\n",
    "\n",
    "z_test_df['brand']=z_test_df['brand'].str.lower()\n",
    "z_test_df['title']=z_test_df['title'].str.lower()\n",
    "z_test_df['description']=z_test_df['description'].str.lower()\n",
    "z_test_df=z_test_df.drop(columns=['index'], axis=1)\n",
    "z_test_df=z_test_df.rename(columns={'offer_id':'zal_offer_id'})\n",
    "\n",
    "ay_test_df['brand']=ay_test_df['brand'].str.lower()\n",
    "ay_test_df['title']=ay_test_df['title'].str.lower()\n",
    "ay_test_df['description']=ay_test_df['description'].str.lower()\n",
    "ay_test_df=ay_test_df.drop(columns=['index'], axis=1)\n",
    "ay_test_df=ay_test_df.rename(columns={'offer_id':'ay_offer_id'})\n",
    "\n",
    "z_test_df['color']=z_test_df['color'].apply(lambda x: ' | '.join(sorted(set(x.split(' | ')))))\n",
    "ay_test_df['color']=ay_test_df['color'].apply(lambda x: ' | '.join(sorted(set(x.split(' | ')))))"
   ]
  },
  {
   "cell_type": "markdown",
   "metadata": {},
   "source": [
    "#### Possible Matches\n",
    "\n",
    "I have created a dataframe for possible matches using the offers_test file. I have merged it on brand and color to have better accuracy while generating similarity scores.\n",
    "After writing the code, i have exported them to parquet files, and i will attach them in the zip file for faster execution. No need to run the below block\n"
   ]
  },
  {
   "cell_type": "markdown",
   "metadata": {},
   "source": [
    "Possible Matches 1"
   ]
  },
  {
   "cell_type": "code",
   "execution_count": 6,
   "metadata": {},
   "outputs": [],
   "source": [
    "# possible_matches_1=z_test_df.merge(ay_test_df, on=['brand','color'])\n",
    "# possible_matches_1=possible_matches_1.assign(fuzz_score_description=0, fuzz_score_title=0)\n",
    "\n",
    "\n",
    "# for i in range(2000):\n",
    "#     possible_matches_1['fuzz_score_description'][i]=fuzz.partial_ratio(possible_matches_1['description_x'][i],possible_matches_1['description_y'][i])\n",
    "#     possible_matches_1['fuzz_score_title'][i]=fuzz.partial_ratio(possible_matches_1['title_x'][i],possible_matches_1['title_y'][i])\n",
    "\n",
    "# for i in range(2000,4000):\n",
    "#     possible_matches_1['fuzz_score_description'][i]=fuzz.partial_ratio(possible_matches_1['description_x'][i],possible_matches_1['description_y'][i])\n",
    "#     possible_matches_1['fuzz_score_title'][i]=fuzz.partial_ratio(possible_matches_1['title_x'][i],possible_matches_1['title_y'][i])\n",
    "\n",
    "# possible_matches_1=possible_matches_1.iloc[0:4000,:]\n",
    "# possible_matches_1=possible_matches_1.drop(columns=['shop_x','brand','color','title_x','title_y','description_x','shop_y','lang','description_y','price'],axis=1)\n",
    "# possible_matches_1['fuzz_score_description']=possible_matches_1['fuzz_score_description']/100\n",
    "# possible_matches_1['fuzz_score_title']=possible_matches_1['fuzz_score_title']/100\n",
    "\n",
    "# possible_matches_1.to_parquet('possible_matches_1.parquet')\n"
   ]
  },
  {
   "cell_type": "markdown",
   "metadata": {},
   "source": [
    "Possible Matches 2"
   ]
  },
  {
   "cell_type": "code",
   "execution_count": null,
   "metadata": {},
   "outputs": [],
   "source": [
    "# possible_matches_2=z_test_df.merge(ay_test_df, on=['brand','color','title'])\n",
    "# possible_matches_2\n",
    "\n",
    "# possible_matches_2=possible_matches_2.assign(fuzz_score_description=0, fuzz_score_title=0)\n",
    "\n",
    "# for i in range(len(possible_matches_2)):\n",
    "#     possible_matches_2['fuzz_score_description'][i]=fuzz.partial_ratio(possible_matches_2['description_x'][i],possible_matches_2['description_y'][i])\n",
    "    \n",
    "# possible_matches_2['fuzz_score_title']=100\n",
    "\n",
    "# print(possible_matches_2['fuzz_score_description'].max())\n",
    "# print(possible_matches_2['fuzz_score_description'].min())\n",
    "# possible_matches_2.to_parquet('testing_df.parquet')"
   ]
  },
  {
   "cell_type": "code",
   "execution_count": 5,
   "metadata": {},
   "outputs": [
    {
     "data": {
      "text/html": [
       "<div>\n",
       "<style scoped>\n",
       "    .dataframe tbody tr th:only-of-type {\n",
       "        vertical-align: middle;\n",
       "    }\n",
       "\n",
       "    .dataframe tbody tr th {\n",
       "        vertical-align: top;\n",
       "    }\n",
       "\n",
       "    .dataframe thead th {\n",
       "        text-align: right;\n",
       "    }\n",
       "</style>\n",
       "<table border=\"1\" class=\"dataframe\">\n",
       "  <thead>\n",
       "    <tr style=\"text-align: right;\">\n",
       "      <th></th>\n",
       "      <th>zal_offer_id</th>\n",
       "      <th>ay_offer_id</th>\n",
       "      <th>fuzz_score_description</th>\n",
       "      <th>fuzz_score_title</th>\n",
       "    </tr>\n",
       "  </thead>\n",
       "  <tbody>\n",
       "    <tr>\n",
       "      <th>0</th>\n",
       "      <td>37d0d991-4264-4dce-9980-17bde9d7b984</td>\n",
       "      <td>f76f3710-6c7f-4dc9-b9f1-0dbad109315d</td>\n",
       "      <td>0.01</td>\n",
       "      <td>1.0</td>\n",
       "    </tr>\n",
       "    <tr>\n",
       "      <th>1</th>\n",
       "      <td>a81b5fe2-97e3-48db-a9cc-782e7ad0154a</td>\n",
       "      <td>f76f3710-6c7f-4dc9-b9f1-0dbad109315d</td>\n",
       "      <td>0.02</td>\n",
       "      <td>1.0</td>\n",
       "    </tr>\n",
       "    <tr>\n",
       "      <th>2</th>\n",
       "      <td>275f7ed3-8107-47f9-ade2-dc9018547ced</td>\n",
       "      <td>f76f3710-6c7f-4dc9-b9f1-0dbad109315d</td>\n",
       "      <td>0.02</td>\n",
       "      <td>1.0</td>\n",
       "    </tr>\n",
       "  </tbody>\n",
       "</table>\n",
       "</div>"
      ],
      "text/plain": [
       "                           zal_offer_id                           ay_offer_id  \\\n",
       "0  37d0d991-4264-4dce-9980-17bde9d7b984  f76f3710-6c7f-4dc9-b9f1-0dbad109315d   \n",
       "1  a81b5fe2-97e3-48db-a9cc-782e7ad0154a  f76f3710-6c7f-4dc9-b9f1-0dbad109315d   \n",
       "2  275f7ed3-8107-47f9-ade2-dc9018547ced  f76f3710-6c7f-4dc9-b9f1-0dbad109315d   \n",
       "\n",
       "   fuzz_score_description  fuzz_score_title  \n",
       "0                    0.01               1.0  \n",
       "1                    0.02               1.0  \n",
       "2                    0.02               1.0  "
      ]
     },
     "execution_count": 5,
     "metadata": {},
     "output_type": "execute_result"
    }
   ],
   "source": [
    "testing=pd.read_parquet('testing_df.parquet')\n",
    "testing=testing.drop(columns=['shop_x','brand','color','title','description_x','shop_y','lang','description_y','price'],axis=1)\n",
    "testing['fuzz_score_description']=testing['fuzz_score_description']/100\n",
    "testing['fuzz_score_title']=testing['fuzz_score_title']/100\n",
    "testing.head(3)"
   ]
  },
  {
   "cell_type": "markdown",
   "metadata": {},
   "source": [
    "### Final testing dataset.\n",
    "Here concatenate the possible matches 1 and 2 parquet files and generate a dataframe important for testing."
   ]
  },
  {
   "cell_type": "code",
   "execution_count": 6,
   "metadata": {},
   "outputs": [
    {
     "data": {
      "text/html": [
       "<div>\n",
       "<style scoped>\n",
       "    .dataframe tbody tr th:only-of-type {\n",
       "        vertical-align: middle;\n",
       "    }\n",
       "\n",
       "    .dataframe tbody tr th {\n",
       "        vertical-align: top;\n",
       "    }\n",
       "\n",
       "    .dataframe thead th {\n",
       "        text-align: right;\n",
       "    }\n",
       "</style>\n",
       "<table border=\"1\" class=\"dataframe\">\n",
       "  <thead>\n",
       "    <tr style=\"text-align: right;\">\n",
       "      <th></th>\n",
       "      <th>zal_offer_id</th>\n",
       "      <th>ay_offer_id</th>\n",
       "      <th>fuzz_score_description</th>\n",
       "      <th>fuzz_score_title</th>\n",
       "    </tr>\n",
       "  </thead>\n",
       "  <tbody>\n",
       "    <tr>\n",
       "      <th>0</th>\n",
       "      <td>37d0d991-4264-4dce-9980-17bde9d7b984</td>\n",
       "      <td>f76f3710-6c7f-4dc9-b9f1-0dbad109315d</td>\n",
       "      <td>0.01</td>\n",
       "      <td>1.0</td>\n",
       "    </tr>\n",
       "    <tr>\n",
       "      <th>1</th>\n",
       "      <td>a81b5fe2-97e3-48db-a9cc-782e7ad0154a</td>\n",
       "      <td>f76f3710-6c7f-4dc9-b9f1-0dbad109315d</td>\n",
       "      <td>0.02</td>\n",
       "      <td>1.0</td>\n",
       "    </tr>\n",
       "    <tr>\n",
       "      <th>2</th>\n",
       "      <td>275f7ed3-8107-47f9-ade2-dc9018547ced</td>\n",
       "      <td>f76f3710-6c7f-4dc9-b9f1-0dbad109315d</td>\n",
       "      <td>0.02</td>\n",
       "      <td>1.0</td>\n",
       "    </tr>\n",
       "    <tr>\n",
       "      <th>3</th>\n",
       "      <td>8cc376c8-23a7-447b-9fa0-15914bd27e09</td>\n",
       "      <td>38bae5e1-1cb0-4fd3-ab8b-397a692b7d7a</td>\n",
       "      <td>0.04</td>\n",
       "      <td>1.0</td>\n",
       "    </tr>\n",
       "    <tr>\n",
       "      <th>4</th>\n",
       "      <td>8cc376c8-23a7-447b-9fa0-15914bd27e09</td>\n",
       "      <td>89bc00e1-b35e-4264-b64b-9e96dcb90d12</td>\n",
       "      <td>0.04</td>\n",
       "      <td>1.0</td>\n",
       "    </tr>\n",
       "  </tbody>\n",
       "</table>\n",
       "</div>"
      ],
      "text/plain": [
       "                           zal_offer_id                           ay_offer_id  \\\n",
       "0  37d0d991-4264-4dce-9980-17bde9d7b984  f76f3710-6c7f-4dc9-b9f1-0dbad109315d   \n",
       "1  a81b5fe2-97e3-48db-a9cc-782e7ad0154a  f76f3710-6c7f-4dc9-b9f1-0dbad109315d   \n",
       "2  275f7ed3-8107-47f9-ade2-dc9018547ced  f76f3710-6c7f-4dc9-b9f1-0dbad109315d   \n",
       "3  8cc376c8-23a7-447b-9fa0-15914bd27e09  38bae5e1-1cb0-4fd3-ab8b-397a692b7d7a   \n",
       "4  8cc376c8-23a7-447b-9fa0-15914bd27e09  89bc00e1-b35e-4264-b64b-9e96dcb90d12   \n",
       "\n",
       "   fuzz_score_description  fuzz_score_title  \n",
       "0                    0.01               1.0  \n",
       "1                    0.02               1.0  \n",
       "2                    0.02               1.0  \n",
       "3                    0.04               1.0  \n",
       "4                    0.04               1.0  "
      ]
     },
     "execution_count": 6,
     "metadata": {},
     "output_type": "execute_result"
    }
   ],
   "source": [
    "testing_1=pd.read_parquet('possible_matches_1.parquet')\n",
    "testing=pd.concat([testing,testing_1], axis=0)\n",
    "testing=testing.reset_index().drop(columns='index',axis=1)\n",
    "testing.head()"
   ]
  },
  {
   "cell_type": "markdown",
   "metadata": {},
   "source": [
    "# Training the dataset and predicting matches.\n",
    "## Fitting and training the dataset.\n",
    "\n",
    "We use the training_df that we created earlier to train the model and use the testing dataset we created to predict our matches and evaluate our model.\n"
   ]
  },
  {
   "cell_type": "markdown",
   "metadata": {},
   "source": [
    "### K-Means Clustering"
   ]
  },
  {
   "cell_type": "code",
   "execution_count": 12,
   "metadata": {},
   "outputs": [
    {
     "data": {
      "text/html": [
       "<div>\n",
       "<style scoped>\n",
       "    .dataframe tbody tr th:only-of-type {\n",
       "        vertical-align: middle;\n",
       "    }\n",
       "\n",
       "    .dataframe tbody tr th {\n",
       "        vertical-align: top;\n",
       "    }\n",
       "\n",
       "    .dataframe thead th {\n",
       "        text-align: right;\n",
       "    }\n",
       "</style>\n",
       "<table border=\"1\" class=\"dataframe\">\n",
       "  <thead>\n",
       "    <tr style=\"text-align: right;\">\n",
       "      <th></th>\n",
       "      <th>zalando</th>\n",
       "      <th>aboutyou</th>\n",
       "      <th>fuzz_score</th>\n",
       "      <th>fuzz_score_title</th>\n",
       "      <th>status</th>\n",
       "    </tr>\n",
       "  </thead>\n",
       "  <tbody>\n",
       "    <tr>\n",
       "      <th>0</th>\n",
       "      <td>b33f55d6-0149-4063-8b63-3eeae63562a2</td>\n",
       "      <td>ad5ceb87-0254-4171-b650-1d4d09f48efc</td>\n",
       "      <td>0.12</td>\n",
       "      <td>0.80</td>\n",
       "      <td>1</td>\n",
       "    </tr>\n",
       "    <tr>\n",
       "      <th>1</th>\n",
       "      <td>f04bef4a-f771-4749-914c-1b22718523b8</td>\n",
       "      <td>b68dd42a-9bda-46e2-aa4e-3d7c50881bb2</td>\n",
       "      <td>0.03</td>\n",
       "      <td>0.43</td>\n",
       "      <td>1</td>\n",
       "    </tr>\n",
       "    <tr>\n",
       "      <th>2</th>\n",
       "      <td>396c292a-cda8-4477-ac67-86701fc8ab95</td>\n",
       "      <td>7d19213c-b3ea-406a-ac8e-8299823c7bb4</td>\n",
       "      <td>0.04</td>\n",
       "      <td>0.26</td>\n",
       "      <td>1</td>\n",
       "    </tr>\n",
       "  </tbody>\n",
       "</table>\n",
       "</div>"
      ],
      "text/plain": [
       "                                zalando                              aboutyou  \\\n",
       "0  b33f55d6-0149-4063-8b63-3eeae63562a2  ad5ceb87-0254-4171-b650-1d4d09f48efc   \n",
       "1  f04bef4a-f771-4749-914c-1b22718523b8  b68dd42a-9bda-46e2-aa4e-3d7c50881bb2   \n",
       "2  396c292a-cda8-4477-ac67-86701fc8ab95  7d19213c-b3ea-406a-ac8e-8299823c7bb4   \n",
       "\n",
       "   fuzz_score  fuzz_score_title  status  \n",
       "0        0.12              0.80       1  \n",
       "1        0.03              0.43       1  \n",
       "2        0.04              0.26       1  "
      ]
     },
     "execution_count": 12,
     "metadata": {},
     "output_type": "execute_result"
    }
   ],
   "source": [
    "cluster_training_df=pd.read_parquet('training_df.parquet')\n",
    "cluster_training_df.head(3)"
   ]
  },
  {
   "cell_type": "code",
   "execution_count": 13,
   "metadata": {},
   "outputs": [
    {
     "data": {
      "text/html": [
       "<div>\n",
       "<style scoped>\n",
       "    .dataframe tbody tr th:only-of-type {\n",
       "        vertical-align: middle;\n",
       "    }\n",
       "\n",
       "    .dataframe tbody tr th {\n",
       "        vertical-align: top;\n",
       "    }\n",
       "\n",
       "    .dataframe thead th {\n",
       "        text-align: right;\n",
       "    }\n",
       "</style>\n",
       "<table border=\"1\" class=\"dataframe\">\n",
       "  <thead>\n",
       "    <tr style=\"text-align: right;\">\n",
       "      <th></th>\n",
       "      <th>fuzz_score_description</th>\n",
       "      <th>fuzz_score_title</th>\n",
       "    </tr>\n",
       "  </thead>\n",
       "  <tbody>\n",
       "    <tr>\n",
       "      <th>0</th>\n",
       "      <td>0.01</td>\n",
       "      <td>1.0</td>\n",
       "    </tr>\n",
       "    <tr>\n",
       "      <th>1</th>\n",
       "      <td>0.02</td>\n",
       "      <td>1.0</td>\n",
       "    </tr>\n",
       "    <tr>\n",
       "      <th>2</th>\n",
       "      <td>0.02</td>\n",
       "      <td>1.0</td>\n",
       "    </tr>\n",
       "    <tr>\n",
       "      <th>3</th>\n",
       "      <td>0.04</td>\n",
       "      <td>1.0</td>\n",
       "    </tr>\n",
       "    <tr>\n",
       "      <th>4</th>\n",
       "      <td>0.04</td>\n",
       "      <td>1.0</td>\n",
       "    </tr>\n",
       "  </tbody>\n",
       "</table>\n",
       "</div>"
      ],
      "text/plain": [
       "   fuzz_score_description  fuzz_score_title\n",
       "0                    0.01               1.0\n",
       "1                    0.02               1.0\n",
       "2                    0.02               1.0\n",
       "3                    0.04               1.0\n",
       "4                    0.04               1.0"
      ]
     },
     "execution_count": 13,
     "metadata": {},
     "output_type": "execute_result"
    }
   ],
   "source": [
    "cluster_testing=pd.DataFrame()\n",
    "cluster_testing=testing.drop(columns=['zal_offer_id','ay_offer_id'])\n",
    "cluster_testing.head()"
   ]
  },
  {
   "cell_type": "code",
   "execution_count": 7,
   "metadata": {},
   "outputs": [
    {
     "name": "stderr",
     "output_type": "stream",
     "text": [
      "No handles with labels found to put in legend.\n"
     ]
    },
    {
     "data": {
      "image/png": "[encoded data removed]",
      "text/plain": [
       "<Figure size 576x576 with 1 Axes>"
      ]
     },
     "metadata": {
      "needs_background": "light"
     },
     "output_type": "display_data"
    }
   ],
   "source": [
    "fig = plt.figure(figsize=(8,8))\n",
    "plt.scatter(x=cluster_training_df['fuzz_score_title'], y=cluster_training_df['fuzz_score'],c=cluster_training_df['status'])\n",
    "plt.legend()\n",
    "plt.show()"
   ]
  },
  {
   "cell_type": "code",
   "execution_count": 8,
   "metadata": {},
   "outputs": [
    {
     "data": {
      "text/plain": [
       "<matplotlib.collections.PathCollection at 0x1def4d0de20>"
      ]
     },
     "execution_count": 8,
     "metadata": {},
     "output_type": "execute_result"
    },
    {
     "data": {
      "image/png": "[encoded data removed]",
      "text/plain": [
       "<Figure size 360x360 with 1 Axes>"
      ]
     },
     "metadata": {
      "needs_background": "light"
     },
     "output_type": "display_data"
    }
   ],
   "source": [
    "fig = plt.figure(figsize=(5, 5))\n",
    "\n",
    "plt.scatter(cluster_training_df['fuzz_score_title'].where(cluster_training_df['status']==1).dropna(), y=cluster_training_df.where(cluster_training_df['status']==1).dropna().index)\n",
    "plt.scatter(cluster_training_df['fuzz_score_title'].where(cluster_training_df['status']==0).dropna(), y=cluster_training_df.where(cluster_training_df['status']==0).dropna().index)"
   ]
  },
  {
   "cell_type": "code",
   "execution_count": 9,
   "metadata": {},
   "outputs": [
    {
     "data": {
      "text/plain": [
       "<matplotlib.collections.PathCollection at 0x1def4cf6dc0>"
      ]
     },
     "execution_count": 9,
     "metadata": {},
     "output_type": "execute_result"
    },
    {
     "data": {
      "image/png": "[encoded data removed]",
      "text/plain": [
       "<Figure size 360x360 with 1 Axes>"
      ]
     },
     "metadata": {
      "needs_background": "light"
     },
     "output_type": "display_data"
    }
   ],
   "source": [
    "fig = plt.figure(figsize=(5, 5))\n",
    "\n",
    "plt.scatter(cluster_training_df['fuzz_score'].where(cluster_training_df['status']==1).dropna(), y=cluster_training_df.where(cluster_training_df['status']==1).dropna().index)\n",
    "plt.scatter(cluster_training_df['fuzz_score'].where(cluster_training_df['status']==0).dropna(), y=cluster_training_df.where(cluster_training_df['status']==0).dropna().index)"
   ]
  },
  {
   "cell_type": "code",
   "execution_count": null,
   "metadata": {},
   "outputs": [],
   "source": [
    "# Importing the dataset\n",
    "X = cluster_training_df.iloc[:, [2, 3]].values\n",
    "y = cluster_training_df.iloc[:, -1].values\n",
    "\n",
    "# Splitting the dataset into the Training set and Test set\n",
    "from sklearn.model_selection import train_test_split\n",
    "X_ctrain, X_ctest, y_ctrain, y_ctest = train_test_split(X, y, test_size = 0.20, random_state = 0)"
   ]
  },
  {
   "cell_type": "code",
   "execution_count": 17,
   "metadata": {},
   "outputs": [
    {
     "data": {
      "text/plain": [
       "array([[0.02, 0.59],\n",
       "       [0.04, 0.15],\n",
       "       [0.14, 0.42],\n",
       "       ...,\n",
       "       [0.03, 0.52],\n",
       "       [0.03, 1.  ],\n",
       "       [0.12, 0.61]])"
      ]
     },
     "execution_count": 17,
     "metadata": {},
     "output_type": "execute_result"
    }
   ],
   "source": [
    "X_ctrain"
   ]
  },
  {
   "cell_type": "code",
   "execution_count": 23,
   "metadata": {
    "scrolled": false
   },
   "outputs": [
    {
     "name": "stdout",
     "output_type": "stream",
     "text": [
      "[1 0 4 ... 1 2 4]\n",
      "[2 0 2 ... 2 1 1]\n",
      "[0 0 1 ... 1 1 1]\n",
      "[1 1 0 ... 0 0 0]\n"
     ]
    },
    {
     "data": {
      "image/png": "[encoded data removed]",
      "text/plain": [
       "<Figure size 504x504 with 1 Axes>"
      ]
     },
     "metadata": {
      "needs_background": "light"
     },
     "output_type": "display_data"
    },
    {
     "data": {
      "image/png": "[encoded data removed]",
      "text/plain": [
       "<Figure size 504x504 with 1 Axes>"
      ]
     },
     "metadata": {
      "needs_background": "light"
     },
     "output_type": "display_data"
    },
    {
     "data": {
      "image/png": "[encoded data removed]",
      "text/plain": [
       "<Figure size 504x504 with 1 Axes>"
      ]
     },
     "metadata": {
      "needs_background": "light"
     },
     "output_type": "display_data"
    },
    {
     "data": {
      "image/png": "[encoded data removed]",
      "text/plain": [
       "<Figure size 504x504 with 1 Axes>"
      ]
     },
     "metadata": {
      "needs_background": "light"
     },
     "output_type": "display_data"
    }
   ],
   "source": [
    "from sklearn.cluster import KMeans, SpectralClustering\n",
    "\n",
    "estimators = [\n",
    "    (\"k_means_iris_5\", KMeans(n_clusters=5, max_iter=100)),\n",
    "    (\"k_means_iris_3\", KMeans(n_clusters=3, max_iter=100)),\n",
    "    (\"k_means_iris_2\", KMeans(n_clusters=2, max_iter=100)),\n",
    "    (\"k_means_iris_bad_init\", KMeans(n_clusters=2, max_iter=100,n_init=1, init=\"random\")),\n",
    "]\n",
    "\n",
    "fignum = 1\n",
    "titles = ['5 Clusters','3 Clusters','2 Clusters', '2 clusters with Bad Init.']\n",
    "for name, est in estimators:\n",
    "    fig = plt.figure(fignum, figsize=(7,7))\n",
    "    est.fit(X_ctrain)\n",
    "    centroids = est.cluster_centers_\n",
    "    labels = est.labels_\n",
    "    y_pred = est.predict(X_ctest)\n",
    "    plt.scatter(X_ctrain[:,1], X_ctrain[:,0], c=labels)\n",
    "    plt.scatter(centroids[:, 1], centroids[:, 0], marker='*', s=150,\n",
    "            c='r', label='centroid')\n",
    "    fignum = fignum + 1\n",
    "    print(y_pred)"
   ]
  },
  {
   "cell_type": "code",
   "execution_count": 24,
   "metadata": {},
   "outputs": [
    {
     "data": {
      "text/plain": [
       "1    4084\n",
       "0    1950\n",
       "dtype: int64"
      ]
     },
     "execution_count": 24,
     "metadata": {},
     "output_type": "execute_result"
    }
   ],
   "source": [
    "pred=pd.DataFrame(y_pred)\n",
    "pred.value_counts()"
   ]
  },
  {
   "cell_type": "code",
   "execution_count": 27,
   "metadata": {},
   "outputs": [
    {
     "name": "stdout",
     "output_type": "stream",
     "text": [
      "0.23467020218760357\n",
      "[[ 161 2829]\n",
      " [1789 1255]]\n"
     ]
    }
   ],
   "source": [
    "from sklearn.metrics import confusion_matrix, accuracy_score\n",
    "\n",
    "ac_c = accuracy_score(y_ctest,y_pred)\n",
    "cm_c = confusion_matrix(y_ctest, y_pred)\n",
    "print(ac_c)\n",
    "print(cm_c)"
   ]
  },
  {
   "cell_type": "markdown",
   "metadata": {},
   "source": [
    "### Naive Bayes Classifier"
   ]
  },
  {
   "cell_type": "code",
   "execution_count": 2,
   "metadata": {},
   "outputs": [
    {
     "data": {
      "text/html": [
       "<div>\n",
       "<style scoped>\n",
       "    .dataframe tbody tr th:only-of-type {\n",
       "        vertical-align: middle;\n",
       "    }\n",
       "\n",
       "    .dataframe tbody tr th {\n",
       "        vertical-align: top;\n",
       "    }\n",
       "\n",
       "    .dataframe thead th {\n",
       "        text-align: right;\n",
       "    }\n",
       "</style>\n",
       "<table border=\"1\" class=\"dataframe\">\n",
       "  <thead>\n",
       "    <tr style=\"text-align: right;\">\n",
       "      <th></th>\n",
       "      <th>zalando</th>\n",
       "      <th>aboutyou</th>\n",
       "      <th>fuzz_score</th>\n",
       "      <th>fuzz_score_title</th>\n",
       "      <th>status</th>\n",
       "    </tr>\n",
       "  </thead>\n",
       "  <tbody>\n",
       "    <tr>\n",
       "      <th>0</th>\n",
       "      <td>b33f55d6-0149-4063-8b63-3eeae63562a2</td>\n",
       "      <td>ad5ceb87-0254-4171-b650-1d4d09f48efc</td>\n",
       "      <td>0.12</td>\n",
       "      <td>0.80</td>\n",
       "      <td>1</td>\n",
       "    </tr>\n",
       "    <tr>\n",
       "      <th>1</th>\n",
       "      <td>f04bef4a-f771-4749-914c-1b22718523b8</td>\n",
       "      <td>b68dd42a-9bda-46e2-aa4e-3d7c50881bb2</td>\n",
       "      <td>0.03</td>\n",
       "      <td>0.43</td>\n",
       "      <td>1</td>\n",
       "    </tr>\n",
       "    <tr>\n",
       "      <th>2</th>\n",
       "      <td>396c292a-cda8-4477-ac67-86701fc8ab95</td>\n",
       "      <td>7d19213c-b3ea-406a-ac8e-8299823c7bb4</td>\n",
       "      <td>0.04</td>\n",
       "      <td>0.26</td>\n",
       "      <td>1</td>\n",
       "    </tr>\n",
       "  </tbody>\n",
       "</table>\n",
       "</div>"
      ],
      "text/plain": [
       "                                zalando                              aboutyou  \\\n",
       "0  b33f55d6-0149-4063-8b63-3eeae63562a2  ad5ceb87-0254-4171-b650-1d4d09f48efc   \n",
       "1  f04bef4a-f771-4749-914c-1b22718523b8  b68dd42a-9bda-46e2-aa4e-3d7c50881bb2   \n",
       "2  396c292a-cda8-4477-ac67-86701fc8ab95  7d19213c-b3ea-406a-ac8e-8299823c7bb4   \n",
       "\n",
       "   fuzz_score  fuzz_score_title  status  \n",
       "0        0.12              0.80       1  \n",
       "1        0.03              0.43       1  \n",
       "2        0.04              0.26       1  "
      ]
     },
     "execution_count": 2,
     "metadata": {},
     "output_type": "execute_result"
    }
   ],
   "source": [
    "nb_training=pd.read_parquet('training_df.parquet')\n",
    "nb_training.head(3)"
   ]
  },
  {
   "cell_type": "code",
   "execution_count": 3,
   "metadata": {},
   "outputs": [],
   "source": [
    "nb_training=nb_training.drop(index=nb_training.index[15170:22669]).reset_index().drop(columns='index',axis=1)"
   ]
  },
  {
   "cell_type": "code",
   "execution_count": 7,
   "metadata": {},
   "outputs": [
    {
     "data": {
      "text/html": [
       "<div>\n",
       "<style scoped>\n",
       "    .dataframe tbody tr th:only-of-type {\n",
       "        vertical-align: middle;\n",
       "    }\n",
       "\n",
       "    .dataframe tbody tr th {\n",
       "        vertical-align: top;\n",
       "    }\n",
       "\n",
       "    .dataframe thead th {\n",
       "        text-align: right;\n",
       "    }\n",
       "</style>\n",
       "<table border=\"1\" class=\"dataframe\">\n",
       "  <thead>\n",
       "    <tr style=\"text-align: right;\">\n",
       "      <th></th>\n",
       "      <th>fuzz_score_description</th>\n",
       "      <th>fuzz_score_title</th>\n",
       "    </tr>\n",
       "  </thead>\n",
       "  <tbody>\n",
       "    <tr>\n",
       "      <th>0</th>\n",
       "      <td>0.01</td>\n",
       "      <td>1.0</td>\n",
       "    </tr>\n",
       "    <tr>\n",
       "      <th>1</th>\n",
       "      <td>0.02</td>\n",
       "      <td>1.0</td>\n",
       "    </tr>\n",
       "    <tr>\n",
       "      <th>2</th>\n",
       "      <td>0.02</td>\n",
       "      <td>1.0</td>\n",
       "    </tr>\n",
       "  </tbody>\n",
       "</table>\n",
       "</div>"
      ],
      "text/plain": [
       "   fuzz_score_description  fuzz_score_title\n",
       "0                    0.01               1.0\n",
       "1                    0.02               1.0\n",
       "2                    0.02               1.0"
      ]
     },
     "execution_count": 7,
     "metadata": {},
     "output_type": "execute_result"
    }
   ],
   "source": [
    "nb_testing=testing\n",
    "nb_testing=nb_testing.drop(columns=['zal_offer_id','ay_offer_id'], axis=1)\n",
    "nb_testing.head(3)"
   ]
  },
  {
   "cell_type": "code",
   "execution_count": 8,
   "metadata": {},
   "outputs": [
    {
     "data": {
      "text/html": [
       "<div>\n",
       "<style scoped>\n",
       "    .dataframe tbody tr th:only-of-type {\n",
       "        vertical-align: middle;\n",
       "    }\n",
       "\n",
       "    .dataframe tbody tr th {\n",
       "        vertical-align: top;\n",
       "    }\n",
       "\n",
       "    .dataframe thead th {\n",
       "        text-align: right;\n",
       "    }\n",
       "</style>\n",
       "<table border=\"1\" class=\"dataframe\">\n",
       "  <thead>\n",
       "    <tr style=\"text-align: right;\">\n",
       "      <th></th>\n",
       "      <th>fuzz_score_description</th>\n",
       "      <th>fuzz_score_title</th>\n",
       "    </tr>\n",
       "  </thead>\n",
       "  <tbody>\n",
       "    <tr>\n",
       "      <th>0</th>\n",
       "      <td>0.01</td>\n",
       "      <td>1.00</td>\n",
       "    </tr>\n",
       "    <tr>\n",
       "      <th>1</th>\n",
       "      <td>0.02</td>\n",
       "      <td>1.00</td>\n",
       "    </tr>\n",
       "    <tr>\n",
       "      <th>2</th>\n",
       "      <td>0.02</td>\n",
       "      <td>1.00</td>\n",
       "    </tr>\n",
       "    <tr>\n",
       "      <th>3</th>\n",
       "      <td>0.04</td>\n",
       "      <td>1.00</td>\n",
       "    </tr>\n",
       "    <tr>\n",
       "      <th>4</th>\n",
       "      <td>0.04</td>\n",
       "      <td>1.00</td>\n",
       "    </tr>\n",
       "    <tr>\n",
       "      <th>...</th>\n",
       "      <td>...</td>\n",
       "      <td>...</td>\n",
       "    </tr>\n",
       "    <tr>\n",
       "      <th>5658</th>\n",
       "      <td>0.19</td>\n",
       "      <td>0.35</td>\n",
       "    </tr>\n",
       "    <tr>\n",
       "      <th>5659</th>\n",
       "      <td>0.20</td>\n",
       "      <td>0.25</td>\n",
       "    </tr>\n",
       "    <tr>\n",
       "      <th>5660</th>\n",
       "      <td>0.04</td>\n",
       "      <td>0.50</td>\n",
       "    </tr>\n",
       "    <tr>\n",
       "      <th>5661</th>\n",
       "      <td>0.18</td>\n",
       "      <td>0.50</td>\n",
       "    </tr>\n",
       "    <tr>\n",
       "      <th>5662</th>\n",
       "      <td>0.20</td>\n",
       "      <td>0.20</td>\n",
       "    </tr>\n",
       "  </tbody>\n",
       "</table>\n",
       "<p>5663 rows × 2 columns</p>\n",
       "</div>"
      ],
      "text/plain": [
       "      fuzz_score_description  fuzz_score_title\n",
       "0                       0.01              1.00\n",
       "1                       0.02              1.00\n",
       "2                       0.02              1.00\n",
       "3                       0.04              1.00\n",
       "4                       0.04              1.00\n",
       "...                      ...               ...\n",
       "5658                    0.19              0.35\n",
       "5659                    0.20              0.25\n",
       "5660                    0.04              0.50\n",
       "5661                    0.18              0.50\n",
       "5662                    0.20              0.20\n",
       "\n",
       "[5663 rows x 2 columns]"
      ]
     },
     "execution_count": 8,
     "metadata": {},
     "output_type": "execute_result"
    }
   ],
   "source": [
    "nb_testing=nb_testing.reset_index().drop(columns='index',axis=1)\n",
    "nb_testing"
   ]
  },
  {
   "cell_type": "code",
   "execution_count": 9,
   "metadata": {},
   "outputs": [],
   "source": [
    "nb_testing=nb_testing.drop(index=nb_testing.index[0:799])"
   ]
  },
  {
   "cell_type": "code",
   "execution_count": 10,
   "metadata": {},
   "outputs": [
    {
     "name": "stdout",
     "output_type": "stream",
     "text": [
      "Accuracy Score: 0.8474090407938258\n",
      "Precision Score: 0.9027921406411582\n",
      "Recall Score: 0.8646417959722681\n"
     ]
    }
   ],
   "source": [
    "# Importing the libraries\n",
    "import numpy as np\n",
    "import matplotlib.pyplot as plt\n",
    "import pandas as pd\n",
    "\n",
    "# Importing the dataset\n",
    "X = nb_training.iloc[:, [2, 3]].values\n",
    "y = nb_training.iloc[:, -1].values\n",
    "\n",
    "# Splitting the dataset into the Training set and Test set\n",
    "from sklearn.model_selection import train_test_split\n",
    "X_train, X_test, y_train, y_test = train_test_split(X, y, test_size = 0.20, random_state = 0)\n",
    "\n",
    "# Training the Naive Bayes model on the Training set\n",
    "from sklearn.naive_bayes import GaussianNB\n",
    "classifier = GaussianNB()\n",
    "classifier.fit(X_train, y_train)\n",
    "\n",
    "# Predicting the Test set results\n",
    "y_pred = classifier.predict(X_test)\n",
    "\n",
    "# Making the Confusion Matrix\n",
    "from sklearn.metrics import confusion_matrix, accuracy_score\n",
    "from sklearn.metrics import recall_score, precision_score\n",
    "\n",
    "ac = accuracy_score(y_test,y_pred)\n",
    "cm = confusion_matrix(y_test, y_pred)\n",
    "pc = precision_score(y_test,y_pred)\n",
    "rc = recall_score(y_test, y_pred)\n",
    "\n",
    "print('Accuracy Score:',ac)\n",
    "print('Precision Score:',pc)\n",
    "print('Recall Score:',rc)"
   ]
  },
  {
   "cell_type": "code",
   "execution_count": 11,
   "metadata": {},
   "outputs": [
    {
     "name": "stdout",
     "output_type": "stream",
     "text": [
      "              precision    recall  f1-score   support\n",
      "\n",
      "           0       0.75      0.81      0.78      1506\n",
      "           1       0.90      0.86      0.88      3029\n",
      "\n",
      "    accuracy                           0.85      4535\n",
      "   macro avg       0.83      0.84      0.83      4535\n",
      "weighted avg       0.85      0.85      0.85      4535\n",
      "\n"
     ]
    }
   ],
   "source": [
    "import sklearn\n",
    "print(sklearn.metrics.classification_report(y_test,y_pred))"
   ]
  },
  {
   "cell_type": "code",
   "execution_count": 12,
   "metadata": {},
   "outputs": [
    {
     "data": {
      "text/plain": [
       "<AxesSubplot:>"
      ]
     },
     "execution_count": 12,
     "metadata": {},
     "output_type": "execute_result"
    },
    {
     "data": {
      "image/png": "[encoded data removed]",
      "text/plain": [
       "<Figure size 432x288 with 2 Axes>"
      ]
     },
     "metadata": {
      "needs_background": "light"
     },
     "output_type": "display_data"
    }
   ],
   "source": [
    "import seaborn as sns\n",
    "sns.heatmap(cm/np.sum(cm), annot=True, \n",
    "            fmt='.2%', cmap='Blues')"
   ]
  },
  {
   "cell_type": "markdown",
   "metadata": {},
   "source": [
    "#### Prediction of the X_test"
   ]
  },
  {
   "cell_type": "code",
   "execution_count": 13,
   "metadata": {},
   "outputs": [
    {
     "data": {
      "text/plain": [
       "1    2901\n",
       "0    1634\n",
       "dtype: int64"
      ]
     },
     "execution_count": 13,
     "metadata": {},
     "output_type": "execute_result"
    }
   ],
   "source": [
    "ypred=pd.DataFrame(y_pred)\n",
    "ypred.value_counts()"
   ]
  },
  {
   "cell_type": "markdown",
   "metadata": {},
   "source": [
    "#### Prediction of our generated dataset"
   ]
  },
  {
   "cell_type": "code",
   "execution_count": 14,
   "metadata": {},
   "outputs": [
    {
     "data": {
      "text/plain": [
       "1    2726\n",
       "0    2138\n",
       "dtype: int64"
      ]
     },
     "execution_count": 14,
     "metadata": {},
     "output_type": "execute_result"
    }
   ],
   "source": [
    "y_pred_1=classifier.predict(nb_testing)\n",
    "ypred_1=pd.DataFrame(y_pred_1)\n",
    "ypred_1.value_counts()"
   ]
  },
  {
   "cell_type": "code",
   "execution_count": 15,
   "metadata": {},
   "outputs": [],
   "source": [
    "ypred_1=ypred_1.rename(columns={0:'status'})"
   ]
  },
  {
   "cell_type": "code",
   "execution_count": 16,
   "metadata": {},
   "outputs": [],
   "source": [
    "final_test=pd.concat([testing,ypred_1],axis=1)"
   ]
  },
  {
   "cell_type": "code",
   "execution_count": 17,
   "metadata": {},
   "outputs": [
    {
     "data": {
      "text/plain": [
       "1.0    2726\n",
       "0.0    2138\n",
       "Name: status, dtype: int64"
      ]
     },
     "execution_count": 17,
     "metadata": {},
     "output_type": "execute_result"
    }
   ],
   "source": [
    "final_test['status'].value_counts()"
   ]
  },
  {
   "cell_type": "code",
   "execution_count": 18,
   "metadata": {},
   "outputs": [
    {
     "data": {
      "text/html": [
       "<div>\n",
       "<style scoped>\n",
       "    .dataframe tbody tr th:only-of-type {\n",
       "        vertical-align: middle;\n",
       "    }\n",
       "\n",
       "    .dataframe tbody tr th {\n",
       "        vertical-align: top;\n",
       "    }\n",
       "\n",
       "    .dataframe thead th {\n",
       "        text-align: right;\n",
       "    }\n",
       "</style>\n",
       "<table border=\"1\" class=\"dataframe\">\n",
       "  <thead>\n",
       "    <tr style=\"text-align: right;\">\n",
       "      <th></th>\n",
       "      <th>zal_offer_id</th>\n",
       "      <th>ay_offer_id</th>\n",
       "      <th>status</th>\n",
       "    </tr>\n",
       "  </thead>\n",
       "  <tbody>\n",
       "    <tr>\n",
       "      <th>0</th>\n",
       "      <td>37d0d991-4264-4dce-9980-17bde9d7b984</td>\n",
       "      <td>f76f3710-6c7f-4dc9-b9f1-0dbad109315d</td>\n",
       "      <td>1.0</td>\n",
       "    </tr>\n",
       "    <tr>\n",
       "      <th>1</th>\n",
       "      <td>a81b5fe2-97e3-48db-a9cc-782e7ad0154a</td>\n",
       "      <td>f76f3710-6c7f-4dc9-b9f1-0dbad109315d</td>\n",
       "      <td>1.0</td>\n",
       "    </tr>\n",
       "    <tr>\n",
       "      <th>2</th>\n",
       "      <td>275f7ed3-8107-47f9-ade2-dc9018547ced</td>\n",
       "      <td>f76f3710-6c7f-4dc9-b9f1-0dbad109315d</td>\n",
       "      <td>1.0</td>\n",
       "    </tr>\n",
       "    <tr>\n",
       "      <th>3</th>\n",
       "      <td>8cc376c8-23a7-447b-9fa0-15914bd27e09</td>\n",
       "      <td>38bae5e1-1cb0-4fd3-ab8b-397a692b7d7a</td>\n",
       "      <td>1.0</td>\n",
       "    </tr>\n",
       "    <tr>\n",
       "      <th>4</th>\n",
       "      <td>8cc376c8-23a7-447b-9fa0-15914bd27e09</td>\n",
       "      <td>89bc00e1-b35e-4264-b64b-9e96dcb90d12</td>\n",
       "      <td>1.0</td>\n",
       "    </tr>\n",
       "    <tr>\n",
       "      <th>...</th>\n",
       "      <td>...</td>\n",
       "      <td>...</td>\n",
       "      <td>...</td>\n",
       "    </tr>\n",
       "    <tr>\n",
       "      <th>4859</th>\n",
       "      <td>78190b84-b6c0-43b6-b74f-08cdd0834359</td>\n",
       "      <td>c8a5ef85-12bb-4341-a05c-635ee76d49ef</td>\n",
       "      <td>1.0</td>\n",
       "    </tr>\n",
       "    <tr>\n",
       "      <th>4860</th>\n",
       "      <td>78190b84-b6c0-43b6-b74f-08cdd0834359</td>\n",
       "      <td>d88e1c3a-abb9-43ba-b0c2-56a4da3dda05</td>\n",
       "      <td>1.0</td>\n",
       "    </tr>\n",
       "    <tr>\n",
       "      <th>4861</th>\n",
       "      <td>78190b84-b6c0-43b6-b74f-08cdd0834359</td>\n",
       "      <td>ced539db-0c13-45e8-8e03-e12155ecb994</td>\n",
       "      <td>1.0</td>\n",
       "    </tr>\n",
       "    <tr>\n",
       "      <th>4862</th>\n",
       "      <td>78190b84-b6c0-43b6-b74f-08cdd0834359</td>\n",
       "      <td>18c5821b-618f-450a-b376-1b130aca5034</td>\n",
       "      <td>1.0</td>\n",
       "    </tr>\n",
       "    <tr>\n",
       "      <th>4863</th>\n",
       "      <td>78190b84-b6c0-43b6-b74f-08cdd0834359</td>\n",
       "      <td>7dd646a1-31a6-4f60-8ce8-c20a66459d35</td>\n",
       "      <td>1.0</td>\n",
       "    </tr>\n",
       "  </tbody>\n",
       "</table>\n",
       "<p>4864 rows × 3 columns</p>\n",
       "</div>"
      ],
      "text/plain": [
       "                              zal_offer_id  \\\n",
       "0     37d0d991-4264-4dce-9980-17bde9d7b984   \n",
       "1     a81b5fe2-97e3-48db-a9cc-782e7ad0154a   \n",
       "2     275f7ed3-8107-47f9-ade2-dc9018547ced   \n",
       "3     8cc376c8-23a7-447b-9fa0-15914bd27e09   \n",
       "4     8cc376c8-23a7-447b-9fa0-15914bd27e09   \n",
       "...                                    ...   \n",
       "4859  78190b84-b6c0-43b6-b74f-08cdd0834359   \n",
       "4860  78190b84-b6c0-43b6-b74f-08cdd0834359   \n",
       "4861  78190b84-b6c0-43b6-b74f-08cdd0834359   \n",
       "4862  78190b84-b6c0-43b6-b74f-08cdd0834359   \n",
       "4863  78190b84-b6c0-43b6-b74f-08cdd0834359   \n",
       "\n",
       "                               ay_offer_id  status  \n",
       "0     f76f3710-6c7f-4dc9-b9f1-0dbad109315d     1.0  \n",
       "1     f76f3710-6c7f-4dc9-b9f1-0dbad109315d     1.0  \n",
       "2     f76f3710-6c7f-4dc9-b9f1-0dbad109315d     1.0  \n",
       "3     38bae5e1-1cb0-4fd3-ab8b-397a692b7d7a     1.0  \n",
       "4     89bc00e1-b35e-4264-b64b-9e96dcb90d12     1.0  \n",
       "...                                    ...     ...  \n",
       "4859  c8a5ef85-12bb-4341-a05c-635ee76d49ef     1.0  \n",
       "4860  d88e1c3a-abb9-43ba-b0c2-56a4da3dda05     1.0  \n",
       "4861  ced539db-0c13-45e8-8e03-e12155ecb994     1.0  \n",
       "4862  18c5821b-618f-450a-b376-1b130aca5034     1.0  \n",
       "4863  7dd646a1-31a6-4f60-8ce8-c20a66459d35     1.0  \n",
       "\n",
       "[4864 rows x 3 columns]"
      ]
     },
     "execution_count": 18,
     "metadata": {},
     "output_type": "execute_result"
    }
   ],
   "source": [
    "final_test=final_test.drop(columns=['fuzz_score_description','fuzz_score_title'], axis=1).dropna()\n",
    "final_test"
   ]
  },
  {
   "cell_type": "code",
   "execution_count": 19,
   "metadata": {},
   "outputs": [],
   "source": [
    "final_test.to_parquet( 'matches_test_predicted.parquet' )"
   ]
  },
  {
   "cell_type": "code",
   "execution_count": null,
   "metadata": {},
   "outputs": [],
   "source": []
  }
 ],
 "metadata": {
  "kernelspec": {
   "display_name": "Python 3",
   "language": "python",
   "name": "python3"
  },
  "language_info": {
   "codemirror_mode": {
    "name": "ipython",
    "version": 3
   },
   "file_extension": ".py",
   "mimetype": "text/x-python",
   "name": "python",
   "nbconvert_exporter": "python",
   "pygments_lexer": "ipython3",
   "version": "3.8.5"
  }
 },
 "nbformat": 4,
 "nbformat_minor": 4
}
